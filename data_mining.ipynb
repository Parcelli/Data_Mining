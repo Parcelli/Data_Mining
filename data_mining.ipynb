{
 "cells": [
  {
   "cell_type": "code",
   "execution_count": 17,
   "id": "5d903650-5ac7-4195-8bcc-200a6d2b3f9f",
   "metadata": {},
   "outputs": [
    {
     "data": {
      "text/plain": [
       "{'DbList': ['pubmed', 'protein', 'nuccore', 'ipg', 'nucleotide', 'structure', 'genome', 'annotinfo', 'assembly', 'bioproject', 'biosample', 'blastdbinfo', 'books', 'cdd', 'clinvar', 'gap', 'gapplus', 'grasp', 'dbvar', 'gene', 'gds', 'geoprofiles', 'homologene', 'medgen', 'mesh', 'nlmcatalog', 'omim', 'orgtrack', 'pmc', 'popset', 'proteinclusters', 'pcassay', 'protfam', 'pccompound', 'pcsubstance', 'seqannot', 'snp', 'sra', 'taxonomy', 'biocollections', 'gtr']}"
      ]
     },
     "execution_count": 17,
     "metadata": {},
     "output_type": "execute_result"
    }
   ],
   "source": [
    "#Obtaining information about NCBI databases\n",
    "from Bio import Entrez\n",
    "Entrez.email = \"parcelmaiyo@gmail.com\" #always let NCBI know who you are\n",
    "handle = Entrez.einfo()\n",
    "record = Entrez.read(handle)\n",
    "handle.close()\n",
    "record\n",
    "#handle = Entrez.esearch(db=\"pubmed\", term=\"oncology\", retmax=10000)\n",
    "#record = Entrez.read(handle)\n",
    "#handle.close()\n",
    "#idlist = record[\"IdList\"]"
   ]
  },
  {
   "cell_type": "code",
   "execution_count": 19,
   "id": "95cd373d-67cb-4484-be70-ebdff0b95382",
   "metadata": {},
   "outputs": [
    {
     "data": {
      "text/plain": [
       "['34434786', '22909249', '19304878']"
      ]
     },
     "execution_count": 19,
     "metadata": {},
     "output_type": "execute_result"
    }
   ],
   "source": [
    "#Searching Entrez database using ESearch\n",
    "from Bio import Entrez\n",
    "Entrez.email = \"parcelmaiyo@gmail.com\" #always let NCBI know who you are\n",
    "handle = Entrez.esearch(db = \"pubmed\",term = \"biopython[title]\",retmax= \"40\")\n",
    "record = Entrez.read(handle)\n",
    "handle.close()\n",
    "idlist = record[\"IdList\"]\n",
    "idlist"
   ]
  },
  {
   "cell_type": "code",
   "execution_count": 31,
   "id": "9cf05651-ec01-4532-94a0-89f3335c3e7a",
   "metadata": {},
   "outputs": [
    {
     "name": "stdout",
     "output_type": "stream",
     "text": [
      "419 eDNA articles have been found\n",
      "['36751629', '36737994', '36726876', '36710869', '36641836', '36635815', '36635221', '36628697', '36621023', '36598115', '36523524', '36523460', '36513529', '36499433', '36479437', '36475544', '36458708', '36423393', '36405018', '36381390']\n"
     ]
    }
   ],
   "source": [
    "#Searching pubmed papers with eDNA in their title\n",
    "#from Bio import Entrez\n",
    "#Entrez.email = \"parcelmaiyo@gmail.com\" #always let NCBI know who you are\n",
    "handle = Entrez.esearch(db=\"pubmed\",term = \"eDNA[title]\", retmax=\"20\")\n",
    "record= Entrez.read(handle)\n",
    "handle.close()\n",
    "print((record[\"Count\"]) ,\"eDNA articles have been found\")\n",
    "print(record[\"IdList\"])\n"
   ]
  },
  {
   "cell_type": "code",
   "execution_count": 45,
   "id": "c96e3d41-2538-424a-a1d8-b894f3e26f72",
   "metadata": {},
   "outputs": [
    {
     "name": "stdout",
     "output_type": "stream",
     "text": [
      "[{'Item': [], 'Id': '36737994', 'PubDate': '2023 Feb', 'EPubDate': '2022 Dec 29', 'Source': 'Food Res Int', 'AuthorList': ['Pathiraja D', 'Cho J', 'Kim J', 'Choi IG'], 'LastAuthor': 'Choi IG', 'Title': 'Metabarcoding of eDNA for tracking the floral and geographical origins of bee honey.', 'Volume': '164', 'Issue': '', 'Pages': '112413', 'LangList': ['English'], 'NlmUniqueID': '9210143', 'ISSN': '0963-9969', 'ESSN': '1873-7145', 'PubTypeList': ['Journal Article'], 'RecordStatus': 'PubMed - indexed for MEDLINE', 'PubStatus': 'ppublish+epublish', 'ArticleIds': {'medline': [], 'pubmed': ['36737994'], 'doi': '10.1016/j.foodres.2022.112413', 'pii': 'S0963-9969(22)01471-5'}, 'DOI': '10.1016/j.foodres.2022.112413', 'History': {'medline': ['2023/02/08 06:00'], 'pubmed': ['2023/02/05 06:00'], 'received': '2022/07/27 00:00', 'revised': '2022/12/11 00:00', 'accepted': '2022/12/25 00:00', 'entrez': '2023/02/04 01:02'}, 'References': [], 'HasAbstract': IntegerElement(1, attributes={}), 'PmcRefCount': IntegerElement(0, attributes={}), 'FullJournalName': 'Food research international (Ottawa, Ont.)', 'ELocationID': 'doi: 10.1016/j.foodres.2022.112413', 'SO': '2023 Feb;164:112413'}]\n"
     ]
    },
    {
     "data": {
      "text/plain": [
       "<enumerate at 0x7fcf18138a00>"
      ]
     },
     "execution_count": 45,
     "metadata": {},
     "output_type": "execute_result"
    }
   ],
   "source": [
    "#Retrieving summaries from primary IDs using ESummary\n",
    "#from Bio import Entrez\n",
    "#Entrez.email = \"parcelmaiyo@gmail.com\" #always let NCBI know who you are\n",
    "handle= Entrez.esummary(db =\"pubmed\",id =\"36737994\")\n",
    "record = Entrez.read(handle)\n",
    "info = record[0][\"Title\"][0]\n",
    "info\n",
    "#print(record[1])\n",
    "\n",
    "print(record)\n",
    "enumerate(record)"
   ]
  },
  {
   "cell_type": "code",
   "execution_count": 61,
   "id": "cb2d683c-a7dd-4859-978c-bd57f74ed1f2",
   "metadata": {},
   "outputs": [
    {
     "name": "stdout",
     "output_type": "stream",
     "text": [
      "36737994 : Title : Metabarcoding of eDNA for tracking the floral and geographical origins of bee honey.\n"
     ]
    }
   ],
   "source": [
    "print((record[0]['Id']),\": Title :\", (record[0]['Title']))"
   ]
  },
  {
   "cell_type": "code",
   "execution_count": 65,
   "id": "f73c28a9-0edc-4328-bf7a-c09246fe828f",
   "metadata": {},
   "outputs": [
    {
     "name": "stdout",
     "output_type": "stream",
     "text": [
      "LOCUS       EU490707                1302 bp    DNA     linear   PLN 26-JUL-2016\n",
      "DEFINITION  Selenipedium aequinoctiale maturase K (matK) gene, partial cds;\n",
      "            chloroplast.\n",
      "ACCESSION   EU490707\n",
      "VERSION     EU490707.1\n",
      "KEYWORDS    .\n",
      "SOURCE      chloroplast Selenipedium aequinoctiale\n",
      "  ORGANISM  Selenipedium aequinoctiale\n",
      "            Eukaryota; Viridiplantae; Streptophyta; Embryophyta; Tracheophyta;\n",
      "            Spermatophyta; Magnoliopsida; Liliopsida; Asparagales; Orchidaceae;\n",
      "            Cypripedioideae; Selenipedium.\n",
      "REFERENCE   1  (bases 1 to 1302)\n",
      "  AUTHORS   Neubig,K.M., Whitten,W.M., Carlsward,B.S., Blanco,M.A., Endara,L.,\n",
      "            Williams,N.H. and Moore,M.\n",
      "  TITLE     Phylogenetic utility of ycf1 in orchids: a plastid gene more\n",
      "            variable than matK\n",
      "  JOURNAL   Plant Syst. Evol. 277 (1-2), 75-84 (2009)\n",
      "REFERENCE   2  (bases 1 to 1302)\n",
      "  AUTHORS   Neubig,K.M., Whitten,W.M., Carlsward,B.S., Blanco,M.A.,\n",
      "            Endara,C.L., Williams,N.H. and Moore,M.J.\n",
      "  TITLE     Direct Submission\n",
      "  JOURNAL   Submitted (14-FEB-2008) Department of Botany, University of\n",
      "            Florida, 220 Bartram Hall, Gainesville, FL 32611-8526, USA\n",
      "FEATURES             Location/Qualifiers\n",
      "     source          1..1302\n",
      "                     /organism=\"Selenipedium aequinoctiale\"\n",
      "                     /organelle=\"plastid:chloroplast\"\n",
      "                     /mol_type=\"genomic DNA\"\n",
      "                     /specimen_voucher=\"FLAS:Blanco 2475\"\n",
      "                     /db_xref=\"taxon:256374\"\n",
      "     gene            <1..>1302\n",
      "                     /gene=\"matK\"\n",
      "     CDS             <1..>1302\n",
      "                     /gene=\"matK\"\n",
      "                     /codon_start=1\n",
      "                     /transl_table=11\n",
      "                     /product=\"maturase K\"\n",
      "                     /protein_id=\"ACC99456.1\"\n",
      "                     /translation=\"IFYEPVEIFGYDNKSSLVLVKRLITRMYQQNFLISSVNDSNQKG\n",
      "                     FWGHKHFFSSHFSSQMVSEGFGVILEIPFSSQLVSSLEEKKIPKYQNLRSIHSIFPFL\n",
      "                     EDKFLHLNYVSDLLIPHPIHLEILVQILQCRIKDVPSLHLLRLLFHEYHNLNSLITSK\n",
      "                     KFIYAFSKRKKRFLWLLYNSYVYECEYLFQFLRKQSSYLRSTSSGVFLERTHLYVKIE\n",
      "                     HLLVVCCNSFQRILCFLKDPFMHYVRYQGKAILASKGTLILMKKWKFHLVNFWQSYFH\n",
      "                     FWSQPYRIHIKQLSNYSFSFLGYFSSVLENHLVVRNQMLENSFIINLLTKKFDTIAPV\n",
      "                     ISLIGSLSKAQFCTVLGHPISKPIWTDFSDSDILDRFCRICRNLCRYHSGSSKKQVLY\n",
      "                     RIKYILRLSCARTLARKHKSTVRTFMRRLGSGLLEEFFMEEE\"\n",
      "ORIGIN      \n",
      "        1 attttttacg aacctgtgga aatttttggt tatgacaata aatctagttt agtacttgtg\n",
      "       61 aaacgtttaa ttactcgaat gtatcaacag aattttttga tttcttcggt taatgattct\n",
      "      121 aaccaaaaag gattttgggg gcacaagcat tttttttctt ctcatttttc ttctcaaatg\n",
      "      181 gtatcagaag gttttggagt cattctggaa attccattct cgtcgcaatt agtatcttct\n",
      "      241 cttgaagaaa aaaaaatacc aaaatatcag aatttacgat ctattcattc aatatttccc\n",
      "      301 tttttagaag acaaattttt acatttgaat tatgtgtcag atctactaat accccatccc\n",
      "      361 atccatctgg aaatcttggt tcaaatcctt caatgccgga tcaaggatgt tccttctttg\n",
      "      421 catttattgc gattgctttt ccacgaatat cataatttga atagtctcat tacttcaaag\n",
      "      481 aaattcattt acgccttttc aaaaagaaag aaaagattcc tttggttact atataattct\n",
      "      541 tatgtatatg aatgcgaata tctattccag tttcttcgta aacagtcttc ttatttacga\n",
      "      601 tcaacatctt ctggagtctt tcttgagcga acacatttat atgtaaaaat agaacatctt\n",
      "      661 ctagtagtgt gttgtaattc ttttcagagg atcctatgct ttctcaagga tcctttcatg\n",
      "      721 cattatgttc gatatcaagg aaaagcaatt ctggcttcaa agggaactct tattctgatg\n",
      "      781 aagaaatgga aatttcatct tgtgaatttt tggcaatctt attttcactt ttggtctcaa\n",
      "      841 ccgtatagga ttcatataaa gcaattatcc aactattcct tctcttttct ggggtatttt\n",
      "      901 tcaagtgtac tagaaaatca tttggtagta agaaatcaaa tgctagagaa ttcatttata\n",
      "      961 ataaatcttc tgactaagaa attcgatacc atagccccag ttatttctct tattggatca\n",
      "     1021 ttgtcgaaag ctcaattttg tactgtattg ggtcatccta ttagtaaacc gatctggacc\n",
      "     1081 gatttctcgg attctgatat tcttgatcga ttttgccgga tatgtagaaa tctttgtcgt\n",
      "     1141 tatcacagcg gatcctcaaa aaaacaggtt ttgtatcgta taaaatatat acttcgactt\n",
      "     1201 tcgtgtgcta gaactttggc acggaaacat aaaagtacag tacgcacttt tatgcgaaga\n",
      "     1261 ttaggttcgg gattattaga agaattcttt atggaagaag aa\n",
      "//\n",
      "\n",
      "\n"
     ]
    }
   ],
   "source": [
    "#Downloading full-records in Entrez Database using Efetch\n",
    "#EFetch isused to retrieve full records in Entrez .It requires specifying rettype/retmode options\n",
    "#from Bio import Entrez\n",
    "#Entrez.email = \"parcelmaiyo@gmail.com\" #always let NCBI know who you are\n",
    "#handle = Entrez.efetch(db=\"pubmed\",id =\"36737994\",retmode = \"text\",rettype =\"gb\")\n",
    "handle = Entrez.efetch (db=\"nucleotide\", id=\"EU490707\", rettype=\"gb\", retmode=\"text\")\n",
    "print(handle.read())\n",
    "\n"
   ]
  },
  {
   "cell_type": "code",
   "execution_count": null,
   "id": "2aee43e3-d8f2-4a67-b5b5-a7e47b9ea813",
   "metadata": {},
   "outputs": [],
   "source": []
  }
 ],
 "metadata": {
  "kernelspec": {
   "display_name": "Python 3 (ipykernel)",
   "language": "python",
   "name": "python3"
  },
  "language_info": {
   "codemirror_mode": {
    "name": "ipython",
    "version": 3
   },
   "file_extension": ".py",
   "mimetype": "text/x-python",
   "name": "python",
   "nbconvert_exporter": "python",
   "pygments_lexer": "ipython3",
   "version": "3.9.5"
  }
 },
 "nbformat": 4,
 "nbformat_minor": 5
}
