Adoption of eDNA technique in Africa
The main questions we seek to answer is :
* What kind of eDNA techniques have been in use
* What type of data is used 
* What is the impact of eDNA method 
* Research direction(way forward)

{
 "cells": [
  {
   "cell_type": "code",
   "execution_count": 17,
   "id": "5d903650-5ac7-4195-8bcc-200a6d2b3f9f",
   "metadata": {},
   "outputs": [
    {
     "data": {
      "text/plain": [
       "{'DbList': ['pubmed', 'protein', 'nuccore', 'ipg', 'nucleotide', 'structure', 'genome', 'annotinfo', 'assembly', 'bioproject', 'biosample', 'blastdbinfo', 'books', 'cdd', 'clinvar', 'gap', 'gapplus', 'grasp', 'dbvar', 'gene', 'gds', 'geoprofiles', 'homologene', 'medgen', 'mesh', 'nlmcatalog', 'omim', 'orgtrack', 'pmc', 'popset', 'proteinclusters', 'pcassay', 'protfam', 'pccompound', 'pcsubstance', 'seqannot', 'snp', 'sra', 'taxonomy', 'biocollections', 'gtr']}"
      ]
     },
     "execution_count": 17,
     "metadata": {},
     "output_type": "execute_result"
    }
   ],
   "source": [
    "#Obtaining information about NCBI databases\n",
    "from Bio import Entrez\n",
    "Entrez.email = \"parcelmaiyo@gmail.com\" #always let NCBI know who you are\n",
    "handle = Entrez.einfo()\n",
    "record = Entrez.read(handle)\n",
    "handle.close()\n",
    "record\n"
   ]
  },
  {
   "cell_type": "code",
   "execution_count": 1,
   "id": "95cd373d-67cb-4484-be70-ebdff0b95382",
   "metadata": {},
   "outputs": [
    {
     "data": {
      "text/plain": [
       "['34434786', '22909249', '19304878']"
      ]
     },
     "execution_count": 1,
     "metadata": {},
     "output_type": "execute_result"
    }
   ],
   "source": [
    "#Searching Entrez database using ESearch\n",
    "from Bio import Entrez\n",
    "Entrez.email = \"parcelmaiyo@gmail.com\" #always let NCBI know who you are\n",
    "handle = Entrez.esearch(db = \"pubmed\",term = \"biopython[title]\",retmax= \"40\")\n",
    "record = Entrez.read(handle)\n",
    "handle.close()\n",
    "idlist = record[\"IdList\"]\n",
    "idlist"
   ]
  },
  {
   "cell_type": "code",
   "execution_count": 18,
   "id": "9cf05651-ec01-4532-94a0-89f3335c3e7a",
   "metadata": {},
   "outputs": [
    {
     "name": "stdout",
     "output_type": "stream",
     "text": [
      "167 eDNA articles have been found\n"
     ]
    },
    {
     "data": {
      "text/plain": [
       "'36670071'"
      ]
     },
     "execution_count": 18,
     "metadata": {},
     "output_type": "execute_result"
    }
   ],
   "source": [
    "#Searching pubmed papers with eDNA in their title\n",
    "from Bio import Entrez\n",
    "Entrez.email = \"parcelmaiyo@gmail.com\" #always let NCBI know who you are\n",
    "handle = Entrez.esearch(db=\"pubmed\",term = \"eDNA AND Kenya\", retmax=\"20\")\n",
    "record= Entrez.read(handle)\n",
    "handle.close()\n",
    "print((record[\"Count\"]) ,\"eDNA articles have been found\")\n",
    "#print(record[\"IdList\"])\n",
    "pubids =record[\"IdList\"]\n",
    "pubids[0]"
   ]
  },
  {
   "cell_type": "code",
   "execution_count": 16,
   "id": "c96e3d41-2538-424a-a1d8-b894f3e26f72",
   "metadata": {},
   "outputs": [],
   "source": [
    "#Retrieving summaries from primary IDs using ESummary\n",
    "#from Bio import Entrez\n",
    "#Entrez.email = \"parcelmaiyo@gmail.com\" #always let NCBI know who you are\n",
    "import pandas as pd\n",
    "def get_records(pubids):\n",
    "    df= pd.DataFrame(columns=[\"ID\",\"Title\",\"PubDate\"])\n",
    "    for ids in pubids:\n",
    "        handle= Entrez.esummary(db =\"pubmed\",id = ids)\n",
    "        record = Entrez.read(handle)\n",
    "        df.loc[len(df)]= [ids,record[0][\"Title\"],record[0][\"PubDate\"]]\n",
    "    return(df)\n",
    "#print(record[1])\n",
    "\n",
    "# print(record)\n",
    "# enumerate(record)"
   ]
  },
  {
   "cell_type": "code",
   "execution_count": null,
   "id": "96ab09fe-d858-4262-8b23-f75e6600a184",
   "metadata": {},
   "outputs": [],
   "source": [
    "pubids\n",
    "get_records(pubids)"
   ]
  },
  {
   "cell_type": "code",
   "execution_count": 12,
   "id": "9fa0d0c4-ce66-4f56-a349-d89c57dfe7b3",
   "metadata": {},
   "outputs": [],
   "source": [
    "#Fetching records for different eDNA techniques(Metabarcording and Quantitative PCR)\n",
    "\n",
    "def get_counts(searchwords):\n",
    "    df= pd.DataFrame(columns=[\"Term\",\"Counts\",\"FirstPubdate\",\"LastPubdate\"])\n",
    "    for word in searchwords:\n",
    "        handle= Entrez.esearch(db=\"pubmed\",retmax=100000, term =\"%s\" %(word))\n",
    "        record =Entrez.read(handle)\n",
    "        pubids = (record[\"IdList\"])\n",
    "        handle_1 = Entrez.esummary(db =\"pubmed\",id = pubids[0])\n",
    "        handle_2 = Entrez.esummary(db=\"pubmed\",id= pubids[-1])\n",
    "        record_1 = Entrez.read(handle_1)\n",
    "        record_2 = Entrez.read(handle_2)\n",
    "        df.loc[len(df)]= [word,len(pubids),record_1[0][\"PubDate\"],record_2[0][\"PubDate\"]]\n",
    "    return(df)"
   ]
  },
  {
   "cell_type": "code",
   "execution_count": 2,
   "id": "3ef9419f-c6c1-48cc-a117-6ab920475c60",
   "metadata": {},
   "outputs": [],
   "source": [
    "\n"
   ]
  },
  {
   "cell_type": "code",
   "execution_count": 14,
   "id": "61cec9c7-fac3-4747-a54a-0b71c65ecf78",
   "metadata": {},
   "outputs": [
    {
     "data": {
      "text/html": [
       "<div>\n",
       "<style scoped>\n",
       "    .dataframe tbody tr th:only-of-type {\n",
       "        vertical-align: middle;\n",
       "    }\n",
       "\n",
       "    .dataframe tbody tr th {\n",
       "        vertical-align: top;\n",
       "    }\n",
       "\n",
       "    .dataframe thead th {\n",
       "        text-align: right;\n",
       "    }\n",
       "</style>\n",
       "<table border=\"1\" class=\"dataframe\">\n",
       "  <thead>\n",
       "    <tr style=\"text-align: right;\">\n",
       "      <th></th>\n",
       "      <th>Term</th>\n",
       "      <th>Counts</th>\n",
       "      <th>FirstPubdate</th>\n",
       "      <th>LastPubdate</th>\n",
       "    </tr>\n",
       "  </thead>\n",
       "  <tbody>\n",
       "    <tr>\n",
       "      <th>0</th>\n",
       "      <td>eDNA</td>\n",
       "      <td>9999</td>\n",
       "      <td>2023 Feb 13</td>\n",
       "      <td>2021</td>\n",
       "    </tr>\n",
       "    <tr>\n",
       "      <th>1</th>\n",
       "      <td>Fish Genomics</td>\n",
       "      <td>9999</td>\n",
       "      <td>2023 Feb 13</td>\n",
       "      <td>2018 Nov 20</td>\n",
       "    </tr>\n",
       "  </tbody>\n",
       "</table>\n",
       "</div>"
      ],
      "text/plain": [
       "            Term  Counts FirstPubdate  LastPubdate\n",
       "0           eDNA    9999  2023 Feb 13         2021\n",
       "1  Fish Genomics    9999  2023 Feb 13  2018 Nov 20"
      ]
     },
     "execution_count": 14,
     "metadata": {},
     "output_type": "execute_result"
    }
   ],
   "source": [
    "from Bio import Entrez\n",
    "Entrez.email = \"parcelmaiyo@gmail.com\" #always let NCBI know who you are\n",
    "import pandas as pd\n",
    "searchwords=[\"eDNA\",\"Fish Genomics\"]\n",
    "get_counts(searchwords)"
   ]
  },
  {
   "cell_type": "code",
   "execution_count": 61,
   "id": "cb2d683c-a7dd-4859-978c-bd57f74ed1f2",
   "metadata": {},
   "outputs": [
    {
     "name": "stdout",
     "output_type": "stream",
     "text": [
      "36737994 : Title : Metabarcoding of eDNA for tracking the floral and geographical origins of bee honey.\n"
     ]
    }
   ],
   "source": [
    "print((record[0]['Id']),\": Title :\", (record[0]['Title']))"
   ]
  },
  {
   "cell_type": "code",
   "execution_count": 65,
   "id": "f73c28a9-0edc-4328-bf7a-c09246fe828f",
   "metadata": {},
   "outputs": [
    {
     "name": "stdout",
     "output_type": "stream",
     "text": [
      "LOCUS       EU490707                1302 bp    DNA     linear   PLN 26-JUL-2016\n",
      "DEFINITION  Selenipedium aequinoctiale maturase K (matK) gene, partial cds;\n",
      "            chloroplast.\n",
      "ACCESSION   EU490707\n",
      "VERSION     EU490707.1\n",
      "KEYWORDS    .\n",
      "SOURCE      chloroplast Selenipedium aequinoctiale\n",
      "  ORGANISM  Selenipedium aequinoctiale\n",
      "            Eukaryota; Viridiplantae; Streptophyta; Embryophyta; Tracheophyta;\n",
      "            Spermatophyta; Magnoliopsida; Liliopsida; Asparagales; Orchidaceae;\n",
      "            Cypripedioideae; Selenipedium.\n",
      "REFERENCE   1  (bases 1 to 1302)\n",
      "  AUTHORS   Neubig,K.M., Whitten,W.M., Carlsward,B.S., Blanco,M.A., Endara,L.,\n",
      "            Williams,N.H. and Moore,M.\n",
      "  TITLE     Phylogenetic utility of ycf1 in orchids: a plastid gene more\n",
      "            variable than matK\n",
      "  JOURNAL   Plant Syst. Evol. 277 (1-2), 75-84 (2009)\n",
      "REFERENCE   2  (bases 1 to 1302)\n",
      "  AUTHORS   Neubig,K.M., Whitten,W.M., Carlsward,B.S., Blanco,M.A.,\n",
      "            Endara,C.L., Williams,N.H. and Moore,M.J.\n",
      "  TITLE     Direct Submission\n",
      "  JOURNAL   Submitted (14-FEB-2008) Department of Botany, University of\n",
      "            Florida, 220 Bartram Hall, Gainesville, FL 32611-8526, USA\n",
      "FEATURES             Location/Qualifiers\n",
      "     source          1..1302\n",
      "                     /organism=\"Selenipedium aequinoctiale\"\n",
      "                     /organelle=\"plastid:chloroplast\"\n",
      "                     /mol_type=\"genomic DNA\"\n",
      "                     /specimen_voucher=\"FLAS:Blanco 2475\"\n",
      "                     /db_xref=\"taxon:256374\"\n",
      "     gene            <1..>1302\n",
      "                     /gene=\"matK\"\n",
      "     CDS             <1..>1302\n",
      "                     /gene=\"matK\"\n",
      "                     /codon_start=1\n",
      "                     /transl_table=11\n",
      "                     /product=\"maturase K\"\n",
      "                     /protein_id=\"ACC99456.1\"\n",
      "                     /translation=\"IFYEPVEIFGYDNKSSLVLVKRLITRMYQQNFLISSVNDSNQKG\n",
      "                     FWGHKHFFSSHFSSQMVSEGFGVILEIPFSSQLVSSLEEKKIPKYQNLRSIHSIFPFL\n",
      "                     EDKFLHLNYVSDLLIPHPIHLEILVQILQCRIKDVPSLHLLRLLFHEYHNLNSLITSK\n",
      "                     KFIYAFSKRKKRFLWLLYNSYVYECEYLFQFLRKQSSYLRSTSSGVFLERTHLYVKIE\n",
      "                     HLLVVCCNSFQRILCFLKDPFMHYVRYQGKAILASKGTLILMKKWKFHLVNFWQSYFH\n",
      "                     FWSQPYRIHIKQLSNYSFSFLGYFSSVLENHLVVRNQMLENSFIINLLTKKFDTIAPV\n",
      "                     ISLIGSLSKAQFCTVLGHPISKPIWTDFSDSDILDRFCRICRNLCRYHSGSSKKQVLY\n",
      "                     RIKYILRLSCARTLARKHKSTVRTFMRRLGSGLLEEFFMEEE\"\n",
      "ORIGIN      \n",
      "        1 attttttacg aacctgtgga aatttttggt tatgacaata aatctagttt agtacttgtg\n",
      "       61 aaacgtttaa ttactcgaat gtatcaacag aattttttga tttcttcggt taatgattct\n",
      "      121 aaccaaaaag gattttgggg gcacaagcat tttttttctt ctcatttttc ttctcaaatg\n",
      "      181 gtatcagaag gttttggagt cattctggaa attccattct cgtcgcaatt agtatcttct\n",
      "      241 cttgaagaaa aaaaaatacc aaaatatcag aatttacgat ctattcattc aatatttccc\n",
      "      301 tttttagaag acaaattttt acatttgaat tatgtgtcag atctactaat accccatccc\n",
      "      361 atccatctgg aaatcttggt tcaaatcctt caatgccgga tcaaggatgt tccttctttg\n",
      "      421 catttattgc gattgctttt ccacgaatat cataatttga atagtctcat tacttcaaag\n",
      "      481 aaattcattt acgccttttc aaaaagaaag aaaagattcc tttggttact atataattct\n",
      "      541 tatgtatatg aatgcgaata tctattccag tttcttcgta aacagtcttc ttatttacga\n",
      "      601 tcaacatctt ctggagtctt tcttgagcga acacatttat atgtaaaaat agaacatctt\n",
      "      661 ctagtagtgt gttgtaattc ttttcagagg atcctatgct ttctcaagga tcctttcatg\n",
      "      721 cattatgttc gatatcaagg aaaagcaatt ctggcttcaa agggaactct tattctgatg\n",
      "      781 aagaaatgga aatttcatct tgtgaatttt tggcaatctt attttcactt ttggtctcaa\n",
      "      841 ccgtatagga ttcatataaa gcaattatcc aactattcct tctcttttct ggggtatttt\n",
      "      901 tcaagtgtac tagaaaatca tttggtagta agaaatcaaa tgctagagaa ttcatttata\n",
      "      961 ataaatcttc tgactaagaa attcgatacc atagccccag ttatttctct tattggatca\n",
      "     1021 ttgtcgaaag ctcaattttg tactgtattg ggtcatccta ttagtaaacc gatctggacc\n",
      "     1081 gatttctcgg attctgatat tcttgatcga ttttgccgga tatgtagaaa tctttgtcgt\n",
      "     1141 tatcacagcg gatcctcaaa aaaacaggtt ttgtatcgta taaaatatat acttcgactt\n",
      "     1201 tcgtgtgcta gaactttggc acggaaacat aaaagtacag tacgcacttt tatgcgaaga\n",
      "     1261 ttaggttcgg gattattaga agaattcttt atggaagaag aa\n",
      "//\n",
      "\n",
      "\n"
     ]
    }
   ],
   "source": [
    "#Downloading full-records in Entrez Database using Efetch\n",
    "#EFetch isused to retrieve full records in Entrez .It requires specifying rettype/retmode options\n",
    "#from Bio import Entrez\n",
    "#Entrez.email = \"parcelmaiyo@gmail.com\" #always let NCBI know who you are\n",
    "#handle = Entrez.efetch(db=\"pubmed\",id =\"36737994\",retmode = \"text\",rettype =\"gb\")\n",
    "handle = Entrez.efetch (db=\"nucleotide\", id=\"EU490707\", rettype=\"gb\", retmode=\"text\")\n",
    "print(handle.read())\n",
    "\n"
   ]
  },
  {
   "cell_type": "code",
   "execution_count": null,
   "id": "2aee43e3-d8f2-4a67-b5b5-a7e47b9ea813",
   "metadata": {},
   "outputs": [],
   "source": []
  }
 ],
 "metadata": {
  "kernelspec": {
   "display_name": "Python 3 (ipykernel)",
   "language": "python",
   "name": "python3"
  },
  "language_info": {
   "codemirror_mode": {
    "name": "ipython",
    "version": 3
   },
   "file_extension": ".py",
   "mimetype": "text/x-python",
   "name": "python",
   "nbconvert_exporter": "python",
   "pygments_lexer": "ipython3",
   "version": "3.9.5"
  }
 },
 "nbformat": 4,
 "nbformat_minor": 5
}
